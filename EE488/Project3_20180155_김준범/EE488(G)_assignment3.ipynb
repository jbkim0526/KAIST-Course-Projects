{
  "nbformat": 4,
  "nbformat_minor": 5,
  "metadata": {
    "colab": {
      "name": "EE488(G) assignment3.ipynb",
      "provenance": [],
      "collapsed_sections": [],
      "toc_visible": true
    },
    "kernelspec": {
      "display_name": "Python 3",
      "language": "python",
      "name": "python3"
    },
    "language_info": {
      "codemirror_mode": {
        "name": "ipython",
        "version": 3
      },
      "file_extension": ".py",
      "mimetype": "text/x-python",
      "name": "python",
      "nbconvert_exporter": "python",
      "pygments_lexer": "ipython3",
      "version": "3.7.9"
    }
  },
  "cells": [
    {
      "cell_type": "markdown",
      "metadata": {
        "id": "distributed-steam"
      },
      "source": [
        "# **EE488 Machine Learning Basics and Practices**\n",
        "## **Mini-Assignment 3**\n",
        "\n",
        "If you have any questions or encounter some problems in this assignment code, feel free to ask directly via **dy.kim@kaist.ac.kr**"
      ],
      "id": "distributed-steam"
    },
    {
      "cell_type": "markdown",
      "metadata": {
        "id": "entertaining-conviction"
      },
      "source": [
        "## **Part 1.** Implement LSTM model using handcrafted 'MyLSTM' and 'MyLSTMCell' modules\n",
        "\n",
        "In the last week 12 practice session(RNN), we've already run lstm model using ``nn.LSTM()`` which is built-in module of pytorch package. In this part, you will implement your own LSTM module (forward only, leaving backward implementation to pytorch autograd as we've done in ```batchnorm1d``` implementation in the last assignment). The target problem here is exactly the same with that of week12 practice session so you can refer to it."
      ],
      "id": "entertaining-conviction"
    },
    {
      "cell_type": "code",
      "metadata": {
        "id": "stuck-pledge"
      },
      "source": [
        "from __future__ import unicode_literals, print_function, division\n",
        "import numpy as np\n",
        "import torch\n",
        "import torch.nn as nn\n",
        "import random\n",
        "import math"
      ],
      "id": "stuck-pledge",
      "execution_count": 1,
      "outputs": []
    },
    {
      "cell_type": "markdown",
      "metadata": {
        "id": "industrial-growing"
      },
      "source": [
        "#### **Character embedding**\n",
        "\n",
        "In order to put characters of the sentence as input of RNN, we should implement character embedding before entering the model as input. There are several embedding methods, but here we use a embedding method which makes one-hot vector.\n",
        "\n",
        "- **Character Embedding**: Convert each character to embedding vector\n",
        "- **string_to_onehot**: Convert string to one-hot vector\n",
        "- **onehot_to_string**: Convert one-hot vector to character (string list)"
      ],
      "id": "industrial-growing"
    },
    {
      "cell_type": "code",
      "metadata": {
        "id": "thrown-luther"
      },
      "source": [
        "# Preprocessing string data\n",
        "# alphabet(0-25), others(26~32), start(33) -> 34 chars\n",
        "\n",
        "chars = \"abcdefghijklmnopqrstuvwxyz ?!.,:;0\"\n",
        "char_list = [i for i in chars]\n",
        "char_len = len(char_list)\n",
        "n_letters = len(char_list)\n",
        "\n",
        "# String to one-hot vector\n",
        "# a -> [1 0 0 ... 0 0], b -> [0 1 0 0 ... 0 0]\n",
        "\n",
        "def string_to_onehot(string,seq_len=1):\n",
        "    start = np.zeros(shape=len(char_list) ,dtype=int)\n",
        "    end = np.zeros(shape=len(char_list) ,dtype=int)\n",
        "    start[-1] = 1 # This is initial input\n",
        "\n",
        "    # Insert zeros for initial input\n",
        "    for i in range(seq_len):\n",
        "        if i == 0:\n",
        "            onehot = start\n",
        "        else:\n",
        "            onehot = np.vstack([start,onehot])\n",
        "\n",
        "    # Convert string to one-hot vector\n",
        "    for i in string:\n",
        "        idx = char_list.index(i)\n",
        "        zero = np.zeros(shape=char_len, dtype=int)\n",
        "        zero[idx]=1\n",
        "        onehot = np.vstack([onehot, zero])\n",
        "    \n",
        "    return onehot\n",
        "\n",
        "# Onehot vector to word\n",
        "# [1 0 0 ... 0 0] -> a \n",
        "\n",
        "def onehot_to_word(onehot_1):\n",
        "    out = ''\n",
        "    for i in range(onehot_1.shape[0]):\n",
        "        onehot = onehot_1[i,:]\n",
        "        out = out + char_list[onehot.argmax()]\n",
        "    return out"
      ],
      "id": "thrown-luther",
      "execution_count": 2,
      "outputs": []
    },
    {
      "cell_type": "markdown",
      "metadata": {
        "id": "sacred-thesis"
      },
      "source": [
        "#### **Settings the target problem**"
      ],
      "id": "sacred-thesis"
    },
    {
      "cell_type": "code",
      "metadata": {
        "id": "incorporate-mistake",
        "colab": {
          "base_uri": "https://localhost:8080/",
          "height": 35
        },
        "outputId": "155dc80b-21c9-42fc-987e-d9bf29f3b2f2"
      },
      "source": [
        "# Recall the target problem\n",
        "string = \"hello pytorch. how long can a rnn cell remember? show me your limit!\"\n",
        "chars = \"abcdefghijklmnopqrstuvwxyz ?!.,:;0\"\n",
        "char_list = [i for i in chars]\n",
        "char_len = len(char_list)\n",
        "input_size = char_len\n",
        "hidden_size = 50\n",
        "output_size = char_len\n",
        "\n",
        "# Additional settings\n",
        "num_layers = 2\n",
        "batch_size = 1\n",
        "seq_len = 3 # In this time, we use seq_len as 3.\n",
        "num_epochs = 400\n",
        "\n",
        "one_hot = torch.tensor(string_to_onehot(string, seq_len).astype(np.float32)) #Convert the given sentence to one-hot vector\n",
        "# Input of LSTM during training # Note that 3 zeros are inserted (since sequence length is 3)\n",
        "onehot_to_word(one_hot)"
      ],
      "id": "incorporate-mistake",
      "execution_count": 3,
      "outputs": [
        {
          "output_type": "execute_result",
          "data": {
            "application/vnd.google.colaboratory.intrinsic+json": {
              "type": "string"
            },
            "text/plain": [
              "'000hello pytorch. how long can a rnn cell remember? show me your limit!'"
            ]
          },
          "metadata": {
            "tags": []
          },
          "execution_count": 3
        }
      ]
    },
    {
      "cell_type": "markdown",
      "metadata": {
        "id": "abstract-crossing"
      },
      "source": [
        "## **TODO1** : Fill in the blanks of the codes for **Task 1 ~ 3 below** and write your own description of the source code in your report.\n",
        "\n",
        "## **TODO2** : Attach the results in your report."
      ],
      "id": "abstract-crossing"
    },
    {
      "cell_type": "markdown",
      "metadata": {
        "id": "interim-scene"
      },
      "source": [
        "### **Task 1. LSTMCell Module Implementation**"
      ],
      "id": "interim-scene"
    },
    {
      "cell_type": "markdown",
      "metadata": {
        "id": "iiM2fgtQIjzx"
      },
      "source": [
        "The following figure shows a single LSTM cell:\n",
        "\n",
        "![image.png](data:image/png;base64,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)"
      ],
      "id": "iiM2fgtQIjzx"
    },
    {
      "cell_type": "markdown",
      "metadata": {
        "id": "professional-collaboration"
      },
      "source": [
        "First of all, you will implement ```LSTMCell``` which will be used in the ```LSTM``` module. (please refer to https://pytorch.org/docs/stable/generated/torch.nn.LSTMCell.html to grasp what parameters and methods are here and how each method works) \n",
        "\n",
        "\n",
        "**Hint: You can define the weights of LSTMCell by using either ```nn.Linear()``` or ```nn.Parameter()```.**"
      ],
      "id": "professional-collaboration"
    },
    {
      "cell_type": "code",
      "metadata": {
        "id": "fantastic-extreme"
      },
      "source": [
        "class MyLSTMCell(nn.Module):\n",
        "    def __init__(self, input_size, hidden_size):\n",
        "        super(MyLSTMCell, self).__init__()\n",
        "        # fill in the blank --------------------------------------\n",
        "        self.input_size = input_size\n",
        "        self.hidden_size = hidden_size\n",
        "        self.fg_x = nn.Linear(input_size,hidden_size)\n",
        "        self.fg_h = nn.Linear(hidden_size,hidden_size)\n",
        "        self.ig_x = nn.Linear(input_size,hidden_size)\n",
        "        self.ig_h = nn.Linear(hidden_size,hidden_size)\n",
        "        self.og_x = nn.Linear(input_size,hidden_size)\n",
        "        self.og_h = nn.Linear(hidden_size,hidden_size)\n",
        "        self.cg_x = nn.Linear(input_size,hidden_size)\n",
        "        self.cg_h = nn.Linear(hidden_size,hidden_size)\n",
        "\n",
        "        # --------------------------------------------------------\n",
        "        \n",
        "    def forward(self, input, hidden_states):\n",
        "        # fill in the blank --------------------------------------\n",
        "        (hidden,cell) = hidden_states\n",
        "\n",
        "        ft = torch.sigmoid(self.fg_x(input) + self.fg_h(hidden))\n",
        "        it = torch.sigmoid(self.ig_x(input) + self.ig_h(hidden))\n",
        "        ot = torch.sigmoid(self.og_x(input) + self.og_h(hidden))\n",
        "        ct = torch.tanh(self.cg_x(input) + self.cg_h(hidden))\n",
        "\n",
        "        new_cell = (ft*cell)+(it*ct)\n",
        "        new_hidden = ot*torch.tanh(new_cell) \n",
        "        return (new_hidden,new_cell)\n",
        "        # --------------------------------------------------------"
      ],
      "id": "fantastic-extreme",
      "execution_count": 4,
      "outputs": []
    },
    {
      "cell_type": "markdown",
      "metadata": {
        "id": "soviet-regular"
      },
      "source": [
        "### **Task 2. LSTM Module Implementation**\n",
        "Secondly, ```LSTM``` module should be implemented to be used in the final model for solving the target problem. (please refer to https://pytorch.org/docs/stable/generated/torch.nn.LSTM.html to grasp what parameters and methods are here and how each method works)\n",
        "\n",
        "**Hint : Use MyLSTMCell and see the example section in https://pytorch.org/docs/stable/generated/torch.nn.LSTMCell.html**"
      ],
      "id": "soviet-regular"
    },
    {
      "cell_type": "markdown",
      "metadata": {
        "id": "i6JTT4VTNemY"
      },
      "source": [
        "The following figure shows an example of MyLSTM:\n",
        "\n",
        "![lstm.PNG](data:image/png;base64,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)"
      ],
      "id": "i6JTT4VTNemY"
    },
    {
      "cell_type": "code",
      "metadata": {
        "id": "moral-kingdom"
      },
      "source": [
        "class MyLSTM(nn.Module):\n",
        "    def __init__(self, input_size, hidden_size, num_layers):\n",
        "        super(MyLSTM, self).__init__()\n",
        "        # fill in the blank --------------------------------------\n",
        "        self.input_size = input_size\n",
        "        self.hidden_size = hidden_size\n",
        "        self.num_layers = num_layers\n",
        "        self.lstm_1 = MyLSTMCell(input_size,hidden_size)\n",
        "        self.lstm_2 = MyLSTMCell(hidden_size,hidden_size)\n",
        "        # --------------------------------------------------------\n",
        "    \n",
        "    def forward(self, input, states):\n",
        "        # fill in the blank --------------------------------------\n",
        "        hidden, cell = states\n",
        "        seq_len, batch, input_size = input.size()\n",
        "        hidden_states=[]\n",
        "        cell_states=[]\n",
        "        y_states= []\n",
        "        temp1=[]\n",
        "        temp2=[]\n",
        "        for i in range(self.num_layers):\n",
        "          temp1.append(hidden[i])\n",
        "          temp2.append(cell[i])\n",
        "        hidden_states.append(temp1)\n",
        "        cell_states.append(temp2)\n",
        "\n",
        "        for i in range(seq_len):\n",
        "          hidden_temp=[]\n",
        "          cell_temp=[]\n",
        "          for j in range(self.num_layers):\n",
        "            k = self.num_layers-1-j\n",
        "            if (j == 0):\n",
        "              hidden,cell = self.lstm_1(input[i],(hidden_states[i][k],cell_states[i][k]))\n",
        "              hidden_temp.append(hidden)\n",
        "              cell_temp.append(cell)\n",
        "            else:\n",
        "              hidden,cell = self.lstm_2(hidden_temp[-1],(hidden_states[i][k],cell_states[i][k]))\n",
        "              hidden_temp.append(hidden)\n",
        "              cell_temp.append(cell)\n",
        "          hidden_temp.reverse()\n",
        "          cell_temp.reverse()             \n",
        "          hidden_states.append(hidden_temp)\n",
        "          cell_states.append(cell_temp)\n",
        "          y_states.append(hidden_temp[0])\n",
        "        yout = torch.stack(y_states,dim=0)                \n",
        "        return yout,(hidden_states[seq_len-1],cell_states[seq_len-1])\n",
        "        # --------------------------------------------------------"
      ],
      "id": "moral-kingdom",
      "execution_count": 5,
      "outputs": []
    },
    {
      "cell_type": "markdown",
      "metadata": {
        "id": "revised-brick"
      },
      "source": [
        "### **Task 3. Defining the final model which consists of LSTM and output Linear layer**\n",
        "\n",
        "You can refer to the practice session material for a few blanks.\n",
        "\n",
        "**Initialize hidden, cell states as zero in `init_hidden_cell` method**"
      ],
      "id": "revised-brick"
    },
    {
      "cell_type": "code",
      "metadata": {
        "id": "understood-indonesia"
      },
      "source": [
        "class Model(nn.Module):\n",
        "    def __init__(self, input_size, hidden_size, output_size, num_layers):\n",
        "        super(Model, self).__init__()\n",
        "        # fill in the blank --------------------------------------\n",
        "        self.input_size = input_size\n",
        "        self.hidden_size = hidden_size\n",
        "        self.num_layers = num_layers\n",
        "        self.output_size = output_size\n",
        "        self.lstm = MyLSTM(input_size,hidden_size,num_layers) \n",
        "        self.h2o = nn.Linear(hidden_size, output_size) # Adjust to output size utilizing linear layer\n",
        "\n",
        "        # --------------------------------------------------------\n",
        "        \n",
        "    def forward(self, input, states):\n",
        "        # fill in the blank --------------------------------------\n",
        "        hidden,cell = states\n",
        "        output_LSTM,(hidden,cell) = self.lstm(input,(hidden,cell))\n",
        "        output = self.h2o(output_LSTM[-1,:,:]).reshape(batch_size,self.output_size) # Get last hidden state\n",
        "        \n",
        "        return output,hidden,cell\n",
        "\n",
        "        # --------------------------------------------------------\n",
        "    \n",
        "    def init_hidden_cell(self, batch_size=1):\n",
        "        # fill in the blank --------------------------------------\n",
        "        hidden = torch.zeros(num_layers,batch_size,hidden_size)\n",
        "        cell = torch.zeros(num_layers,batch_size,hidden_size)\n",
        "        return hidden,cell\n",
        "\n",
        "        # --------------------------------------------------------"
      ],
      "id": "understood-indonesia",
      "execution_count": 6,
      "outputs": []
    },
    {
      "cell_type": "markdown",
      "metadata": {
        "id": "geological-affect"
      },
      "source": [
        "#### **Training and evaluation the target problem**"
      ],
      "id": "geological-affect"
    },
    {
      "cell_type": "code",
      "metadata": {
        "id": "continued-midnight",
        "colab": {
          "base_uri": "https://localhost:8080/"
        },
        "outputId": "8905093e-11ee-4c28-cbab-65e76d6a3e20"
      },
      "source": [
        "# set random seed\n",
        "random_seed = 2021\n",
        "torch.manual_seed(random_seed)\n",
        "torch.cuda.manual_seed(random_seed)\n",
        "torch.backends.cudnn.deterministic = True\n",
        "torch.backends.cudnn.benchmark = False\n",
        "np.random.seed(random_seed)\n",
        "random.seed(random_seed)# build model\n",
        "\n",
        "lstm_model = Model(input_size, hidden_size, output_size, num_layers)\n",
        "criterion = nn.MSELoss()\n",
        "optimizer = torch.optim.Adam(lstm_model.parameters(), lr=0.01)\n",
        "\n",
        "for i in range(num_epochs):\n",
        "    total_loss = 0\n",
        "    hidden, cell = lstm_model.init_hidden_cell(batch_size)\n",
        "\n",
        "    for j in range(len(string)):\n",
        "\n",
        "        input_data = one_hot[j:j + seq_len].reshape(seq_len, batch_size, -1)  # Load x_(t), x_(t+1), x_(t+2) and change the shape of input_data to (sequence length, batch size, input size)\n",
        "        output, hidden, cell = lstm_model(input_data, (hidden, cell))         # Put the input and hidden state and cell state as input of lstm\n",
        "        target = one_hot[j + seq_len].view(1,-1)                              # Load groundtruth of y_(t+2) from one-hot and change the shape to (batch size, output size)\n",
        "        loss = criterion(output,target)                                       # Compute loss at each time step\n",
        "        total_loss += loss\n",
        "\n",
        "    optimizer.zero_grad()\n",
        "    total_loss.backward()\n",
        "    optimizer.step()\n",
        "\n",
        "    if i%100 ==0:\n",
        "        print('At {:3d}th epoch, Loss : {:0.4f}'.format(i, total_loss.item()))"
      ],
      "id": "continued-midnight",
      "execution_count": 7,
      "outputs": [
        {
          "output_type": "stream",
          "text": [
            "At   0th epoch, Loss : 2.4418\n",
            "At 100th epoch, Loss : 0.0032\n",
            "At 200th epoch, Loss : 0.0027\n",
            "At 300th epoch, Loss : 0.0001\n"
          ],
          "name": "stdout"
        }
      ]
    },
    {
      "cell_type": "code",
      "metadata": {
        "id": "fatty-serial",
        "colab": {
          "base_uri": "https://localhost:8080/"
        },
        "outputId": "04ea1ecd-8ce4-4063-b09b-a677835de305"
      },
      "source": [
        "hidden, cell = lstm_model.init_hidden_cell(batch_size)\n",
        "input_data = one_hot[:seq_len].reshape(seq_len,batch_size,-1)\n",
        "\n",
        "with torch.no_grad():\n",
        "    for j in range(len(string)):\n",
        "        output, hidden, cell = lstm_model(input_data, (hidden, cell))\n",
        "        print(onehot_to_word(output.reshape(1, -1)), end=\"\")\n",
        "        input_data = torch.cat([input_data[1:], output.reshape(1, batch_size, -1)], axis=0)"
      ],
      "id": "fatty-serial",
      "execution_count": 8,
      "outputs": [
        {
          "output_type": "stream",
          "text": [
            "hello pytorch. how long can a rnn cell remember? show me your limit!"
          ],
          "name": "stdout"
        }
      ]
    },
    {
      "cell_type": "markdown",
      "metadata": {
        "id": "pregnant-cherry"
      },
      "source": [
        "## **Part 2.** Numpy Implementation of **autograd**, **torch-like Tensor** and **Module**\n",
        "\n",
        "The objective of this part is to understand how the mechanism of autograd in APIs (pytorch, tensorflow, etc) actually work. How to obtain the gradients of all of the parameters computed through such exceedingly complicated computations? Some people use this beautifully well-made APIs as a 'blackbox' when studying, implementing or even doing research on something. However, it is very important to understant what's going on (even if it's not that deep) inside this blackbox when you run some simulations, make use of third party's source code and even understand it. I hope this assignment will be of some help to your future study. "
      ],
      "id": "pregnant-cherry"
    },
    {
      "cell_type": "code",
      "metadata": {
        "id": "quiet-journal"
      },
      "source": [
        "import numpy as np\n",
        "import os \n",
        "from urllib import request\n",
        "import gzip\n",
        "from tqdm import tqdm\n",
        "import matplotlib.pyplot as plt\n",
        "import math\n",
        "import random"
      ],
      "id": "quiet-journal",
      "execution_count": 9,
      "outputs": []
    },
    {
      "cell_type": "markdown",
      "metadata": {
        "id": "judicial-garage"
      },
      "source": [
        "#### **Implementing 'torch-like Tensor' by subclassing Numpy array**\n",
        "\n",
        "The following code is for impelementing torch-like tensor by subclassing the numpy ndarray to add some desired attributes(e.g. grad, backward_fn) and  mimic the pytorch's autograd mechanism. **The attribute 'grad' is for keeping and accumulating the gradients and 'backward_fn' is for tracking all the computations with corresponding backward function.** All the backward functions will be called consecutively all at once when `loss.backward()` is called"
      ],
      "id": "judicial-garage"
    },
    {
      "cell_type": "code",
      "metadata": {
        "id": "advised-medium"
      },
      "source": [
        "class Tensor(np.ndarray):\n",
        "\n",
        "    def __new__(cls, input_array, requires_grad=False):\n",
        "        obj = np.asarray(input_array).view(cls)\n",
        "        obj.grad = None\n",
        "        obj.requires_grad = requires_grad\n",
        "        lambda_fn = lambda x: 0 if x is None else x\n",
        "        obj.backward_fn = lambda leaf_grad: setattr(obj, 'grad', lambda_fn(obj.grad) + leaf_grad) if requires_grad else lambda *args: None\n",
        "        return obj\n",
        "\n",
        "    def __array_finalize__(self, obj):\n",
        "        if obj is None: return\n",
        "        self.grad = getattr(obj, 'grad', None)\n",
        "        self.requires_grad = getattr(obj, 'requires_grad', None)\n",
        "        self.backward_fn = getattr(obj, 'backward_fn', None)\n",
        "\n",
        "    def backward(self, *args):\n",
        "        self.backward_fn(*args)"
      ],
      "id": "advised-medium",
      "execution_count": 10,
      "outputs": []
    },
    {
      "cell_type": "markdown",
      "metadata": {
        "id": "federal-swift"
      },
      "source": [
        "**Usage**\n",
        "\n",
        "You can make **Tensor** by wrapping ```ndarray``` with the ```Tensor()``` class"
      ],
      "id": "federal-swift"
    },
    {
      "cell_type": "code",
      "metadata": {
        "id": "defined-bibliography",
        "colab": {
          "base_uri": "https://localhost:8080/"
        },
        "outputId": "418af364-ed64-431b-df3a-6a28a8098093"
      },
      "source": [
        "array = np.random.randn(2, 3)\n",
        "print(array.__repr__(), end='\\n\\n')\n",
        "\n",
        "mytensor = Tensor(array) # wrap it with Tensor class\n",
        "print(mytensor.__repr__())"
      ],
      "id": "defined-bibliography",
      "execution_count": 11,
      "outputs": [
        {
          "output_type": "stream",
          "text": [
            "array([[ 1.48860905,  0.67601087, -0.41845137],\n",
            "       [-0.80652081,  0.55587583, -0.70550429]])\n",
            "\n",
            "Tensor([[ 1.48860905,  0.67601087, -0.41845137],\n",
            "        [-0.80652081,  0.55587583, -0.70550429]])\n"
          ],
          "name": "stdout"
        }
      ]
    },
    {
      "cell_type": "markdown",
      "metadata": {
        "id": "federal-commons"
      },
      "source": [
        "**You can use all of the operations and methods which are supported by numpy package**"
      ],
      "id": "federal-commons"
    },
    {
      "cell_type": "code",
      "metadata": {
        "id": "electoral-finder",
        "colab": {
          "base_uri": "https://localhost:8080/"
        },
        "outputId": "74baaa71-f4c9-4567-b8c7-b5e708f3d8d4"
      },
      "source": [
        "addition = mytensor + mytensor\n",
        "power_two = mytensor ** 2\n",
        "max_zero = np.maximum(mytensor, 0)\n",
        "\n",
        "addition, power_two, max_zero"
      ],
      "id": "electoral-finder",
      "execution_count": 12,
      "outputs": [
        {
          "output_type": "execute_result",
          "data": {
            "text/plain": [
              "(Tensor([[ 2.97721811,  1.35202174, -0.83690274],\n",
              "         [-1.61304163,  1.11175166, -1.41100857]]),\n",
              " Tensor([[2.21595691, 0.4569907 , 0.17510155],\n",
              "         [0.65047582, 0.30899794, 0.4977363 ]]),\n",
              " Tensor([[1.48860905, 0.67601087, 0.        ],\n",
              "         [0.        , 0.55587583, 0.        ]]))"
            ]
          },
          "metadata": {
            "tags": []
          },
          "execution_count": 12
        }
      ]
    },
    {
      "cell_type": "markdown",
      "metadata": {
        "id": "unknown-latvia"
      },
      "source": [
        "**The following descriptive figure is for understanding how autograd computes the gradient.**\n",
        "\n",
        "![image.png](data:image/png;base64,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)\n",
        "\n",
        "Backward function must be defined for all the forward operations like below. Pytorch package already implemented all the backward for all the basic vector/matrix operation. However, you can define the forward/backward \"in chunk\" containing multiple operations, not \"basic operation level\" (see below).\n",
        "\n",
        "The following example is for implementing three basic operation (scalar addition, multiplication, power of two) using \"closure\" technique (see https://www.learnpython.org/en/Closures for details). The forward/backward function will be implemented as the following form.\n",
        "\n",
        "```python\n",
        "def forward(input):\n",
        "    output = forward_operation(input)\n",
        "\n",
        "    def backward(grad_output -> if required):\n",
        "        grad_input = corresponding_backward_function(grad_output)\n",
        "        input.backward_fn(grad_input)\n",
        "\n",
        "    output.backward_fn = backward\n",
        "    return output\n",
        "```\n",
        "\n",
        " Corresponding backward function is attached to attribute \"backward_fn\" of the output Tensor when computing the forward operation. And then all these backward functions will be called consecutively. **(Note that if input is leaf variable, backward_fn just saves gradient in .grad attributes (or accumulate). See above code of Tensor class)**."
      ],
      "id": "unknown-latvia"
    },
    {
      "cell_type": "markdown",
      "metadata": {
        "id": "operational-belief"
      },
      "source": [
        "Now, let's consider the following example.\n",
        "\n",
        "$f(a, b) = (a^2 + 1)^2b^2$\n",
        "\n",
        "Taking derivative it with respect to $a$ and $b$ gives\n",
        "\n",
        "$\\dfrac{\\partial f}{\\partial a} = 2(a^2 + 1)(2a)b^2$\n",
        "and\n",
        "$\\dfrac{\\partial f}{\\partial b} = 2b(a^2 + 1)^2$\n",
        "\n",
        "Thus, we can implement forward/backward of $f$ (w.r.t $a$, $b$) as follows:"
      ],
      "id": "operational-belief"
    },
    {
      "cell_type": "code",
      "metadata": {
        "id": "bearing-tunnel"
      },
      "source": [
        "def f(a, b):\n",
        "    output = (a ** 2 + 1) ** 2 * b ** 2\n",
        "\n",
        "    def backward():\n",
        "        grad_input_a = 2 * (a ** 2 + 1) * (2 * a) * b ** 2\n",
        "        grad_input_b = 2 * b * (a ** 2 + 1) ** 2\n",
        "        a.backward_fn(grad_input_a)\n",
        "        b.backward_fn(grad_input_b)\n",
        "\n",
        "    output.backward_fn = backward\n",
        "    return output"
      ],
      "id": "bearing-tunnel",
      "execution_count": 13,
      "outputs": []
    },
    {
      "cell_type": "markdown",
      "metadata": {
        "id": "incomplete-composer"
      },
      "source": [
        "Define 'a' and 'b' with 'required_grad = True' for tracking the computational graph. In this case, the backward_fn is for keeping/accumulating the gradient."
      ],
      "id": "incomplete-composer"
    },
    {
      "cell_type": "code",
      "metadata": {
        "id": "living-merchant",
        "colab": {
          "base_uri": "https://localhost:8080/"
        },
        "outputId": "3ac8f43a-8c76-47b1-9ce0-cd6dc1c749e6"
      },
      "source": [
        "a = Tensor(2, requires_grad=True)\n",
        "b = Tensor(3, requires_grad=True)\n",
        "\n",
        "out = f(a, b)\n",
        "out.backward()\n",
        "\n",
        "# check the output and gradient\n",
        "out, a.grad, b.grad"
      ],
      "id": "living-merchant",
      "execution_count": 14,
      "outputs": [
        {
          "output_type": "execute_result",
          "data": {
            "text/plain": [
              "(Tensor(225), Tensor(360), Tensor(150))"
            ]
          },
          "metadata": {
            "tags": []
          },
          "execution_count": 14
        }
      ]
    },
    {
      "cell_type": "markdown",
      "metadata": {
        "id": "honey-locking"
      },
      "source": [
        "Althogh it is very simple yet effective way of obtaining the gradient, it may impossible to define all the corresponding backward function for each (possibly infinite number of) forward function. To get around this problem, we can decompse it into more basic level operations like addition, multiplication, etc. This is how autograd works. See below.\n",
        "\n",
        "### **Task 1. Implment backward of the following operations:**\n",
        "\n",
        "```add()``` : addition of two operands\n",
        "\n",
        "```mul()``` : multiplication of two operands\n",
        "\n",
        "```pow_two()``` : taking power of two\n",
        "\n",
        "Defualt argument in backward function is nothing but for the case of the last ```out.backward()``` call.\n",
        "\n",
        "## **TODO1** : Fill in the blanks of the codes for **Task 1** and write your own description of the source code in your report. \n",
        "\n",
        "## **TODO2** : Attach the results in your report."
      ],
      "id": "honey-locking"
    },
    {
      "cell_type": "code",
      "metadata": {
        "id": "perfect-timer"
      },
      "source": [
        "# It computes the output using only \"handcrafted\" basic level operations!\n",
        "def f(a, b):\n",
        "    # (a^2 + 1)^2 x b^2 = (a^2 x b + b)^2\n",
        "    c = pow_two(a)\n",
        "    d = mul(c, b)\n",
        "    e = add(d, b)\n",
        "    f = pow_two(e)\n",
        "    return f\n",
        "\n",
        "\n",
        "# handcrafted basic level operations\n",
        "# addition\n",
        "def add(a, b):\n",
        "    # fill in the blank --------------------------------------\n",
        "    output = a+b\n",
        "    # --------------------------------------------------------\n",
        "    def backward(grad_output=1):\n",
        "        # fill in the blank --------------------------------------\n",
        "        grad_input_a = 1\n",
        "        grad_input_b = 1 \n",
        "        a.backward_fn(grad_input_a*grad_output)\n",
        "        b.backward_fn(grad_input_b*grad_output)\n",
        "        # --------------------------------------------------------\n",
        "    output.backward_fn = backward\n",
        "    return output\n",
        "\n",
        "# multiplication\n",
        "def mul(a, b):\n",
        "    # fill in the blank --------------------------------------\n",
        "    output = a*b\n",
        "    # --------------------------------------------------------\n",
        "    def backward(grad_output=1):\n",
        "        # fill in the blank --------------------------------------\n",
        "        grad_input_a = b\n",
        "        grad_input_b = a \n",
        "        a.backward_fn(grad_input_a*grad_output)\n",
        "        b.backward_fn(grad_input_b*grad_output)\n",
        "        # --------------------------------------------------------\n",
        "    output.backward_fn = backward\n",
        "    return output\n",
        "\n",
        "# power of two\n",
        "def pow_two(a):\n",
        "    # fill in the blank --------------------------------------\n",
        "    output = a **2\n",
        "    # --------------------------------------------------------\n",
        "    def backward(grad_output=1):\n",
        "        # fill in the blank --------------------------------------\n",
        "        grad_input_a = 2*a\n",
        "        a.backward_fn(grad_input_a*grad_output)\n",
        "        # --------------------------------------------------------\n",
        "    output.backward_fn = backward\n",
        "    return output"
      ],
      "id": "perfect-timer",
      "execution_count": 15,
      "outputs": []
    },
    {
      "cell_type": "code",
      "metadata": {
        "id": "heard-alfred",
        "colab": {
          "base_uri": "https://localhost:8080/"
        },
        "outputId": "5592422e-f0fe-47f2-d473-ad8a200abae9"
      },
      "source": [
        "# define 'a' and 'b' with 'required_grad = True' to track the computational graph. In this case, the backward_fn is for keeping/accumulating the gradient.\n",
        "a = Tensor(2, requires_grad=True)\n",
        "b = Tensor(3, requires_grad=True)\n",
        "\n",
        "out = f(a, b)\n",
        "out.backward()\n",
        "\n",
        "# check the output and gradient\n",
        "out, a.grad, b.grad"
      ],
      "id": "heard-alfred",
      "execution_count": 16,
      "outputs": [
        {
          "output_type": "execute_result",
          "data": {
            "text/plain": [
              "(Tensor(225), Tensor(360), Tensor(150))"
            ]
          },
          "metadata": {
            "tags": []
          },
          "execution_count": 16
        }
      ]
    },
    {
      "cell_type": "markdown",
      "metadata": {
        "id": "advanced-logic"
      },
      "source": [
        "backward() is called once more -> the gradients are accumulated"
      ],
      "id": "advanced-logic"
    },
    {
      "cell_type": "code",
      "metadata": {
        "id": "composed-teddy",
        "colab": {
          "base_uri": "https://localhost:8080/"
        },
        "outputId": "245dc59a-62d7-43ef-d81c-7d1cfba1301b"
      },
      "source": [
        "out.backward()\n",
        "out, a.grad, b.grad"
      ],
      "id": "composed-teddy",
      "execution_count": 17,
      "outputs": [
        {
          "output_type": "execute_result",
          "data": {
            "text/plain": [
              "(Tensor(225), Tensor(720), Tensor(300))"
            ]
          },
          "metadata": {
            "tags": []
          },
          "execution_count": 17
        }
      ]
    },
    {
      "cell_type": "markdown",
      "metadata": {
        "id": "expensive-produce"
      },
      "source": [
        "If the .requires_grad is False, the gradient will not be saved in corresponding variable,"
      ],
      "id": "expensive-produce"
    },
    {
      "cell_type": "code",
      "metadata": {
        "id": "complimentary-island",
        "colab": {
          "base_uri": "https://localhost:8080/"
        },
        "outputId": "f45ff25c-3d1d-4cc0-842d-f59f193ac075"
      },
      "source": [
        "a = Tensor(2, requires_grad=True)\n",
        "b = Tensor(3)\n",
        "\n",
        "out = f(a, b)\n",
        "out.backward()\n",
        "\n",
        "out, a.grad, b.grad"
      ],
      "id": "complimentary-island",
      "execution_count": 18,
      "outputs": [
        {
          "output_type": "execute_result",
          "data": {
            "text/plain": [
              "(Tensor(225), Tensor(360), None)"
            ]
          },
          "metadata": {
            "tags": []
          },
          "execution_count": 18
        }
      ]
    },
    {
      "cell_type": "markdown",
      "metadata": {
        "id": "appropriate-cooler"
      },
      "source": [
        "#### **Implementing 'torch-like Module' to be inherited to customed modules**\n",
        "It contains several useful methods and implemented compactly, trying to make it along the same line with `nn.Module` in pytorch. (except for the ```update``` method). See https://pytorch.org/docs/stable/generated/torch.nn.Module.html for details of each method usage.\n",
        "\n",
        "Since all the effective SGD variants other than naive one is out of scope in this assignment, we will not investigate on 'torch-like optimizer'. Instead, we will make the 'Module' class absorb this update procedure in ```update``` method. Learning rate (```lr```) must be specified in every iteration as a method's argument.\n"
      ],
      "id": "appropriate-cooler"
    },
    {
      "cell_type": "markdown",
      "metadata": {
        "id": "WaW_XHHKvTG-"
      },
      "source": [
        "\n",
        "### **Task 2. Implment ```zero_grad()``` and ```update()``` methods**\n",
        "\n",
        "**hint:** use ```parameters()``` method.\n",
        "\n",
        "## **TODO1** : Fill in the blanks of the codes for **Task 2** and write your own description of the source code in your report. \n",
        "\n",
        "## **TODO2** : Attach the results in your report."
      ],
      "id": "WaW_XHHKvTG-"
    },
    {
      "cell_type": "code",
      "metadata": {
        "id": "peaceful-anger"
      },
      "source": [
        "class Module:\n",
        "    def __init__(self):\n",
        "        self.training = True\n",
        "        self._parameters = dict()\n",
        "        self._modules = dict()\n",
        "\n",
        "    def __setattr__(self, name, value):\n",
        "        super(Module, self).__setattr__(name, value)\n",
        "        if isinstance(value, Tensor) and value.requires_grad:\n",
        "            self._parameters[name] = value\n",
        "        elif isinstance(value, Module):\n",
        "            self._modules[name] = value\n",
        "\n",
        "    def modules(self):\n",
        "        yield self\n",
        "        for name, module in self._modules.items():\n",
        "            if module is None:\n",
        "                continue\n",
        "            for m in module.modules():\n",
        "                yield m\n",
        "        \n",
        "    def parameters(self):\n",
        "        modules = self.modules()\n",
        "        for module in modules:\n",
        "            members = module._parameters.items()\n",
        "            for k, v in members:\n",
        "                yield v\n",
        "\n",
        "    def zero_grad(self):\n",
        "        # fill in the blank --------------------------------------\n",
        "        for v in self.parameters():\n",
        "          v.grad =0\n",
        "        # --------------------------------------------------------\n",
        "\n",
        "    def update(self, lr):\n",
        "        # fill in the blank --------------------------------------\n",
        "        for v in self.parameters():\n",
        "          v -= lr*v.grad\n",
        "        # --------------------------------------------------------\n",
        "\n",
        "    def train(self):\n",
        "        for module in self.modules():\n",
        "            module.training = True\n",
        "\n",
        "    def eval(self):\n",
        "        for module in self.modules():\n",
        "            module.training = False\n",
        "\n",
        "    def forward(self, *args):\n",
        "        raise NotImplementedError\n",
        "\n",
        "    def __call__(self, *args):\n",
        "        return self.forward(*args)"
      ],
      "id": "peaceful-anger",
      "execution_count": 19,
      "outputs": []
    },
    {
      "cell_type": "markdown",
      "metadata": {
        "id": "flexible-knight"
      },
      "source": [
        "**Usage**\n",
        "\n",
        "You can subclass it when you implement the customed modules(e.g. relu, fc layer) as well as the full model which will be defined in the similar way with torch's Module."
      ],
      "id": "flexible-knight"
    },
    {
      "cell_type": "code",
      "metadata": {
        "colab": {
          "base_uri": "https://localhost:8080/"
        },
        "id": "weighted-sister",
        "outputId": "93a00c6f-7f32-4bc4-8098-fe8ab9dbb654"
      },
      "source": [
        "class TestModel(Module):\n",
        "    def __init__(self, init_param):\n",
        "        super(TestModel, self).__init__()\n",
        "        self.some_param = Tensor(init_param, requires_grad=True)\n",
        "    \n",
        "    def forward(self, x):\n",
        "        return f(self.some_param, x)  ## f is defined above in Part1-Task1\n",
        "    \n",
        "test_model = TestModel(12.)\n",
        "out = test_model(Tensor(0.3))\n",
        "out.backward()\n",
        "\n",
        "print('gradient of some_param before zero_grad : ', test_model.some_param.grad)\n",
        "print('some_param before update : ', test_model.some_param)\n",
        "test_model.update(lr=0.01)\n",
        "print('some_param after update : ', test_model.some_param)\n",
        "test_model.zero_grad()\n",
        "print('gradient of some_param after zero_grad : ', test_model.some_param.grad)"
      ],
      "id": "weighted-sister",
      "execution_count": 20,
      "outputs": [
        {
          "output_type": "stream",
          "text": [
            "gradient of some_param before zero_grad :  626.3999999999999\n",
            "some_param before update :  12.0\n",
            "some_param after update :  5.7360000000000015\n",
            "gradient of some_param after zero_grad :  0\n"
          ],
          "name": "stdout"
        }
      ]
    },
    {
      "cell_type": "markdown",
      "metadata": {
        "id": "large-wings"
      },
      "source": [
        "#### **Recap Deep Neural Network (DNN) Training**\n",
        "\n",
        "Let's recap deep neural network which was already covered by week 9 practice session meterial. In this sub-part, you will implement DNN model by using the above `Tensor, Model, Autograd mechanism`. You can fill in the blank based on the week 9 practice session meterial if you think you need. At first, some key modules (e.g. full-connected layer, ReLU activation) will be implemented and wrapping(using) them with a whole model which also must inherit the `Module` class. And then train with MNIST and CIFAR10 dataset to check the result.\n",
        "\n"
      ],
      "id": "large-wings"
    },
    {
      "cell_type": "markdown",
      "metadata": {
        "id": "T0Fs3KFXk61Y"
      },
      "source": [
        "#### **1. Training on MNIST Dataset**\n",
        "#### **Load MNIST Dataset**"
      ],
      "id": "T0Fs3KFXk61Y"
    },
    {
      "cell_type": "code",
      "metadata": {
        "id": "QnI1qQLwk6Nv",
        "colab": {
          "base_uri": "https://localhost:8080/"
        },
        "outputId": "8d84ce1c-050f-4694-f2c5-bd59abd4fb4a"
      },
      "source": [
        "#Download MNIST Dataset\n",
        "\n",
        "if not os.path.exists('mnist'):\n",
        "    os.mkdir('mnist')\n",
        "# try:\n",
        "mnist_url = \"https://ossci-datasets.s3.amazonaws.com/mnist/\"\n",
        "files = [\"train-images-idx3-ubyte.gz\",\"t10k-images-idx3-ubyte.gz\",\"train-labels-idx1-ubyte.gz\",\"t10k-labels-idx1-ubyte.gz\"]\n",
        "for file in files: \n",
        "    if not os.path.isfile('mnist/'+file):\n",
        "        request.urlretrieve(mnist_url+file, 'mnist/'+file)\n",
        "\n",
        "#Prepare MNIST Dataset\n",
        "with gzip.open('mnist/train-images-idx3-ubyte.gz', 'r') as f:\n",
        "    magic_number = int.from_bytes(f.read(4), 'big')\n",
        "    num_images_training = int.from_bytes(f.read(4), 'big')\n",
        "    row_count = int.from_bytes(f.read(4), 'big')\n",
        "    column_count = int.from_bytes(f.read(4), 'big')\n",
        "    train_images_data = f.read()\n",
        "    train_images = np.frombuffer(train_images_data, dtype=np.uint8).reshape(num_images_training, row_count, column_count)\n",
        "\n",
        "with gzip.open('mnist/train-labels-idx1-ubyte.gz', 'r') as f:\n",
        "    magic_number = int.from_bytes(f.read(4), 'big')\n",
        "    label_count = int.from_bytes(f.read(4), 'big')\n",
        "    train_labels_data = f.read()\n",
        "    train_labels = np.frombuffer(train_labels_data, dtype=np.uint8)\n",
        "\n",
        "with gzip.open('mnist/t10k-images-idx3-ubyte.gz', 'r') as f:\n",
        "    magic_number = int.from_bytes(f.read(4), 'big')\n",
        "    num_images_test = int.from_bytes(f.read(4), 'big')\n",
        "    row_count = int.from_bytes(f.read(4), 'big')\n",
        "    column_count = int.from_bytes(f.read(4), 'big')\n",
        "    test_images_data = f.read()\n",
        "    test_images = np.frombuffer(test_images_data, dtype=np.uint8).reshape(num_images_test, row_count, column_count)\n",
        "\n",
        "with gzip.open('mnist/t10k-labels-idx1-ubyte.gz', 'r') as f:\n",
        "    magic_number = int.from_bytes(f.read(4), 'big')\n",
        "    label_count = int.from_bytes(f.read(4), 'big')\n",
        "    test_labels_data = f.read()\n",
        "    test_labels = np.frombuffer(test_labels_data, dtype=np.uint8) \n",
        "\n",
        "train_images = Tensor(train_images / 255.)\n",
        "test_images = Tensor(test_images / 255.)\n",
        "train_labels = Tensor(train_labels)\n",
        "test_labels = Tensor(test_labels)\n",
        "\n",
        "print(\"Training Images Shape:\" , train_images.shape)\n",
        "print(\"Training Labels Shape:\" ,train_labels.shape)\n",
        "print(\"Test Images Shape:\" ,test_images.shape)\n",
        "print(\"Test Labels Shape:\" ,test_labels.shape)"
      ],
      "id": "QnI1qQLwk6Nv",
      "execution_count": 21,
      "outputs": [
        {
          "output_type": "stream",
          "text": [
            "Training Images Shape: (60000, 28, 28)\n",
            "Training Labels Shape: (60000,)\n",
            "Test Images Shape: (10000, 28, 28)\n",
            "Test Labels Shape: (10000,)\n"
          ],
          "name": "stdout"
        }
      ]
    },
    {
      "cell_type": "markdown",
      "metadata": {
        "id": "false-elephant"
      },
      "source": [
        "The following model is desired to be trained on MNIST dataset at the end of this sub-part, and as you can see the below cell, you need to implement the following modules:\n",
        "\n",
        "`Linear`, `ReLU`\n",
        "\n",
        "The usage of these modules are exactly the same with that of pytorch."
      ],
      "id": "false-elephant"
    },
    {
      "cell_type": "code",
      "metadata": {
        "id": "Z_uPa2mrlWXu"
      },
      "source": [
        "class Model(Module):\n",
        "    def __init__(self):\n",
        "        super(Model, self).__init__()\n",
        "        self.fc1 = Linear(784, 320)\n",
        "        self.fc2 = Linear(320, 120)\n",
        "        self.fc3 = Linear(120, 10)\n",
        "        self.relu = ReLU()\n",
        "\n",
        "    def forward(self, x):\n",
        "        x = x.reshape(x.shape[0], -1)\n",
        "        x = self.relu(self.fc1(x))\n",
        "        x = self.relu(self.fc2(x))\n",
        "        x = self.fc3(x)\n",
        "        return x"
      ],
      "id": "Z_uPa2mrlWXu",
      "execution_count": 22,
      "outputs": []
    },
    {
      "cell_type": "markdown",
      "metadata": {
        "id": "primary-firewall"
      },
      "source": [
        "### **Task 3. Implement the ReLU, Linear modules(with backward)**\n",
        "\n"
      ],
      "id": "primary-firewall"
    },
    {
      "cell_type": "markdown",
      "metadata": {
        "id": "nq2UFEKsvY8V"
      },
      "source": [
        "### **Task 4. Implement CrossEntropyLoss(with backward) to define appropriate criterion before training**\n"
      ],
      "id": "nq2UFEKsvY8V"
    },
    {
      "cell_type": "markdown",
      "metadata": {
        "id": "WiaN9LXlveqt"
      },
      "source": [
        "\n",
        "## **TODO1** : Fill in the blanks of the codes for **Task 3, 4** and write your own description of the source code in your report. \n",
        "\n",
        "## **TODO2** : Attach the results in your report."
      ],
      "id": "WiaN9LXlveqt"
    },
    {
      "cell_type": "code",
      "metadata": {
        "id": "characteristic-cooking"
      },
      "source": [
        "class ReLU(Module):\n",
        "    def __init__(self):\n",
        "        super(ReLU, self).__init__()\n",
        "\n",
        "    def forward(self, x):\n",
        "        return relu_function(x)\n",
        "\n",
        "\n",
        "def relu_function(input):\n",
        "    # fill in the blank --------------------------------------\n",
        "    output = input * 1*(input>0)\n",
        "    # --------------------------------------------------------\n",
        "    def backward(grad_output):\n",
        "        # fill in the blank --------------------------------------\n",
        "        grad_input = 1*(input>0)\n",
        "        input.backward_fn(grad_input*grad_output)    \n",
        "        # --------------------------------------------------------\n",
        "        \n",
        "    output.backward_fn = backward\n",
        "    return output"
      ],
      "id": "characteristic-cooking",
      "execution_count": 23,
      "outputs": []
    },
    {
      "cell_type": "code",
      "metadata": {
        "id": "nominated-antarctica"
      },
      "source": [
        "class Linear(Module):\n",
        "    def __init__(self, in_features, out_features):\n",
        "        super(Linear, self).__init__()\n",
        "        self.in_features = in_features\n",
        "        self.out_features = out_features\n",
        "        self.init_parameters()\n",
        "\n",
        "    def init_parameters(self):\n",
        "        W = np.random.randn(self.in_features, self.out_features) * math.sqrt(2 / (6 * self.in_features))\n",
        "        bound = 1 / math.sqrt(self.in_features)\n",
        "        b = np.random.uniform(-bound, bound, size=(self.out_features))\n",
        "        self.W = Tensor(W, requires_grad=True)\n",
        "        self.b = Tensor(b, requires_grad=True)\n",
        "\n",
        "    def forward(self, x):\n",
        "        return wx_plus_b(self.W, self.b, x)\n",
        "\n",
        "\n",
        "def wx_plus_b(W, b, input):\n",
        "    # fill in the blank --------------------------------------\n",
        "    output = np.matmul(input,W) + b\n",
        "    # --------------------------------------------------------\n",
        "    def backward(grad_output):\n",
        "        # fill in the blank --------------------------------------\n",
        "        grad_input_W = input.T\n",
        "        grad_input_x = W.T\n",
        "        W.backward_fn(np.matmul(grad_input_W,grad_output)/100)\n",
        "        input.backward_fn(np.matmul(grad_output,grad_input_x))\n",
        "        b.backward_fn(np.sum(grad_output, axis=0)/100)\n",
        "        # --------------------------------------------------------\n",
        "\n",
        "    output.backward_fn = backward\n",
        "    return output"
      ],
      "id": "nominated-antarctica",
      "execution_count": 24,
      "outputs": []
    },
    {
      "cell_type": "markdown",
      "metadata": {
        "id": "BJsv6E5eueNu"
      },
      "source": [
        "**Implement CrossEntropyLoss which combines `LogSoftmax` and `NLL Loss` as pytorch's one does.**\n",
        "\n",
        "(see https://pytorch.org/docs/stable/generated/torch.nn.CrossEntropyLoss.html)"
      ],
      "id": "BJsv6E5eueNu"
    },
    {
      "cell_type": "code",
      "metadata": {
        "id": "returning-lying"
      },
      "source": [
        "class CrossEntropyLoss:\n",
        "    def __call__(self, input, target):\n",
        "        return compute_cross_entropy_loss(input, target)\n",
        "\n",
        "\n",
        "def compute_cross_entropy_loss(input, target):\n",
        " # fill in the blank --------------------------------------\n",
        "    l = len(input)\n",
        "    q = np.log(np.sum(np.exp(input),axis=1))\n",
        "    sum = 0\n",
        "    for i in range(l):\n",
        "      sum +=  -1*input[i][target[i]] + q[i]\n",
        "    v = sum/l\n",
        "    output = Tensor(v, requires_grad=True)\n",
        "\n",
        "    # --------------------------------------------------------\n",
        "    def backward():\n",
        "        # fill in the blank --------------------------------------\n",
        "        n,c = input.shape[0], input.shape[1]\n",
        "        grad_input_i = Tensor(np.zeros(input.shape),requires_grad=True) \n",
        "        p = torch.sum(torch.exp(torch.Tensor(input)),axis =1)\n",
        "        for i in range(n):\n",
        "          for j in range(c):\n",
        "            t = target[i]\n",
        "            if j == t:\n",
        "              grad_input_i[i][j] = math.exp(input[i][j])/p[i] -1\n",
        "            else:\n",
        "              grad_input_i[i][j] = math.exp(input[i][j])/p[i]\n",
        "        input.backward_fn(grad_input_i)\n",
        "        # --------------------------------------------------------\n",
        "\n",
        "    output.backward_fn = backward\n",
        "    return output"
      ],
      "id": "returning-lying",
      "execution_count": 25,
      "outputs": []
    },
    {
      "cell_type": "markdown",
      "metadata": {
        "id": "athletic-battery"
      },
      "source": [
        "#### **Training and Evaluation**"
      ],
      "id": "athletic-battery"
    },
    {
      "cell_type": "code",
      "metadata": {
        "id": "senior-drilling",
        "colab": {
          "base_uri": "https://localhost:8080/"
        },
        "outputId": "b3508430-7619-47a4-e4d2-711e8f0a7e1e"
      },
      "source": [
        "np.random.seed(2021)\n",
        "random.seed(2021)\n",
        "model = Model()\n",
        "criterion = CrossEntropyLoss()\n",
        "epoch = 20\n",
        "batch_size = 100\n",
        "assert len(train_images) % batch_size == 0\n",
        "lr = 0.1\n",
        "for i in tqdm(range(epoch)):\n",
        "    indices = np.arange(len(train_images))\n",
        "    np.random.shuffle(indices)\n",
        "    train_images_shuffle = train_images[indices]\n",
        "    train_labels_shuffle = train_labels[indices]\n",
        "    running_loss = 0.0\n",
        "    for num_batch in range(len(train_images) // batch_size):\n",
        "        imgs = train_images_shuffle[num_batch * batch_size:(num_batch + 1) * batch_size]\n",
        "        target = train_labels_shuffle[num_batch * batch_size:(num_batch + 1) * batch_size]\n",
        "        output = model(imgs)\n",
        "        loss = criterion(output, target)\n",
        "        model.zero_grad()\n",
        "        loss.backward()\n",
        "        model.update(lr)\n",
        "        running_loss += loss      \n",
        "    print('Loss = {}'.format(running_loss/(num_batch + 1)))\n",
        "print('Training Finished')"
      ],
      "id": "senior-drilling",
      "execution_count": 26,
      "outputs": [
        {
          "output_type": "stream",
          "text": [
            "  5%|▌         | 1/20 [00:22<07:01, 22.20s/it]"
          ],
          "name": "stderr"
        },
        {
          "output_type": "stream",
          "text": [
            "Loss = 0.5781777946939585\n"
          ],
          "name": "stdout"
        },
        {
          "output_type": "stream",
          "text": [
            "\r 10%|█         | 2/20 [00:44<06:38, 22.11s/it]"
          ],
          "name": "stderr"
        },
        {
          "output_type": "stream",
          "text": [
            "Loss = 0.22873719532443318\n"
          ],
          "name": "stdout"
        },
        {
          "output_type": "stream",
          "text": [
            "\r 15%|█▌        | 3/20 [01:06<06:15, 22.07s/it]"
          ],
          "name": "stderr"
        },
        {
          "output_type": "stream",
          "text": [
            "Loss = 0.1640410724755691\n"
          ],
          "name": "stdout"
        },
        {
          "output_type": "stream",
          "text": [
            "\r 20%|██        | 4/20 [01:28<05:52, 22.05s/it]"
          ],
          "name": "stderr"
        },
        {
          "output_type": "stream",
          "text": [
            "Loss = 0.1257603994957947\n"
          ],
          "name": "stdout"
        },
        {
          "output_type": "stream",
          "text": [
            "\r 25%|██▌       | 5/20 [01:50<05:31, 22.08s/it]"
          ],
          "name": "stderr"
        },
        {
          "output_type": "stream",
          "text": [
            "Loss = 0.10119685747190237\n"
          ],
          "name": "stdout"
        },
        {
          "output_type": "stream",
          "text": [
            "\r 30%|███       | 6/20 [02:12<05:08, 22.00s/it]"
          ],
          "name": "stderr"
        },
        {
          "output_type": "stream",
          "text": [
            "Loss = 0.08333178600107863\n"
          ],
          "name": "stdout"
        },
        {
          "output_type": "stream",
          "text": [
            "\r 35%|███▌      | 7/20 [02:34<04:46, 22.01s/it]"
          ],
          "name": "stderr"
        },
        {
          "output_type": "stream",
          "text": [
            "Loss = 0.07027924708791247\n"
          ],
          "name": "stdout"
        },
        {
          "output_type": "stream",
          "text": [
            "\r 40%|████      | 8/20 [02:55<04:23, 21.93s/it]"
          ],
          "name": "stderr"
        },
        {
          "output_type": "stream",
          "text": [
            "Loss = 0.06055773553076713\n"
          ],
          "name": "stdout"
        },
        {
          "output_type": "stream",
          "text": [
            "\r 45%|████▌     | 9/20 [03:17<04:01, 21.95s/it]"
          ],
          "name": "stderr"
        },
        {
          "output_type": "stream",
          "text": [
            "Loss = 0.05177557093455945\n"
          ],
          "name": "stdout"
        },
        {
          "output_type": "stream",
          "text": [
            "\r 50%|█████     | 10/20 [03:39<03:38, 21.87s/it]"
          ],
          "name": "stderr"
        },
        {
          "output_type": "stream",
          "text": [
            "Loss = 0.044975764742171215\n"
          ],
          "name": "stdout"
        },
        {
          "output_type": "stream",
          "text": [
            "\r 55%|█████▌    | 11/20 [04:01<03:16, 21.80s/it]"
          ],
          "name": "stderr"
        },
        {
          "output_type": "stream",
          "text": [
            "Loss = 0.03923449391013921\n"
          ],
          "name": "stdout"
        },
        {
          "output_type": "stream",
          "text": [
            "\r 60%|██████    | 12/20 [04:22<02:54, 21.76s/it]"
          ],
          "name": "stderr"
        },
        {
          "output_type": "stream",
          "text": [
            "Loss = 0.03359318136054477\n"
          ],
          "name": "stdout"
        },
        {
          "output_type": "stream",
          "text": [
            "\r 65%|██████▌   | 13/20 [04:44<02:32, 21.77s/it]"
          ],
          "name": "stderr"
        },
        {
          "output_type": "stream",
          "text": [
            "Loss = 0.029359092377834753\n"
          ],
          "name": "stdout"
        },
        {
          "output_type": "stream",
          "text": [
            "\r 70%|███████   | 14/20 [05:06<02:10, 21.82s/it]"
          ],
          "name": "stderr"
        },
        {
          "output_type": "stream",
          "text": [
            "Loss = 0.02638559426859062\n"
          ],
          "name": "stdout"
        },
        {
          "output_type": "stream",
          "text": [
            "\r 75%|███████▌  | 15/20 [05:28<01:49, 21.94s/it]"
          ],
          "name": "stderr"
        },
        {
          "output_type": "stream",
          "text": [
            "Loss = 0.02188277657225809\n"
          ],
          "name": "stdout"
        },
        {
          "output_type": "stream",
          "text": [
            "\r 80%|████████  | 16/20 [05:50<01:28, 22.01s/it]"
          ],
          "name": "stderr"
        },
        {
          "output_type": "stream",
          "text": [
            "Loss = 0.019211439694421316\n"
          ],
          "name": "stdout"
        },
        {
          "output_type": "stream",
          "text": [
            "\r 85%|████████▌ | 17/20 [06:12<01:06, 22.01s/it]"
          ],
          "name": "stderr"
        },
        {
          "output_type": "stream",
          "text": [
            "Loss = 0.016606912947774433\n"
          ],
          "name": "stdout"
        },
        {
          "output_type": "stream",
          "text": [
            "\r 90%|█████████ | 18/20 [06:34<00:43, 21.92s/it]"
          ],
          "name": "stderr"
        },
        {
          "output_type": "stream",
          "text": [
            "Loss = 0.014621049770453896\n"
          ],
          "name": "stdout"
        },
        {
          "output_type": "stream",
          "text": [
            "\r 95%|█████████▌| 19/20 [06:56<00:21, 21.89s/it]"
          ],
          "name": "stderr"
        },
        {
          "output_type": "stream",
          "text": [
            "Loss = 0.01248915659717752\n"
          ],
          "name": "stdout"
        },
        {
          "output_type": "stream",
          "text": [
            "100%|██████████| 20/20 [07:18<00:00, 21.92s/it]"
          ],
          "name": "stderr"
        },
        {
          "output_type": "stream",
          "text": [
            "Loss = 0.0109020433180678\n",
            "Training Finished\n"
          ],
          "name": "stdout"
        },
        {
          "output_type": "stream",
          "text": [
            "\n"
          ],
          "name": "stderr"
        }
      ]
    },
    {
      "cell_type": "code",
      "metadata": {
        "id": "acknowledged-facial",
        "colab": {
          "base_uri": "https://localhost:8080/"
        },
        "outputId": "98b60598-d4ab-4ec1-de97-ff35f65a31c2"
      },
      "source": [
        "prediction = model(test_images)\n",
        "prediction_label = np.argmax(prediction, axis=1)\n",
        "test_acc = np.sum((prediction_label == test_labels))/len(test_labels)\n",
        "print('Test Accuracy = {:.2f}'.format(100*test_acc))"
      ],
      "id": "acknowledged-facial",
      "execution_count": 27,
      "outputs": [
        {
          "output_type": "stream",
          "text": [
            "Test Accuracy = 98.12\n"
          ],
          "name": "stdout"
        }
      ]
    },
    {
      "cell_type": "markdown",
      "metadata": {
        "id": "zueP5PnokXu_"
      },
      "source": [
        "#### **2. Training on CIFAR-10 Dataset**\n",
        "#### **Load CIFAR-10 Dataset**\n",
        "\n",
        "As we've done in the last assignment, we will extract only 4 classes out of 10 to be classified and train model on these classes."
      ],
      "id": "zueP5PnokXu_"
    },
    {
      "cell_type": "code",
      "metadata": {
        "id": "important-addition",
        "scrolled": true,
        "colab": {
          "base_uri": "https://localhost:8080/"
        },
        "outputId": "cfe87c28-050e-44dd-816d-71bc95399123"
      },
      "source": [
        "#Download CIFAR10 Dataset\n",
        "from urllib import request\n",
        "import pickle\n",
        "\n",
        "request.urlretrieve('https://www.cs.toronto.edu/~kriz/cifar-10-python.tar.gz', 'cifar-10-python.tar.gz')\n",
        "!tar -xzf cifar-10-python.tar.gz\n",
        "\n",
        "for i in range(1,6):\n",
        "    filename='data_batch_%d'%i\n",
        "    with open('cifar-10-batches-py/'+filename, 'rb') as fo:\n",
        "        dict_data = pickle.load(fo, encoding='bytes')\n",
        "  \n",
        "    images_batch = dict_data[b'data']\n",
        "    labels_batch = dict_data[b'labels']\n",
        "    if i==1:\n",
        "        train_images = images_batch\n",
        "        train_labels = labels_batch\n",
        "    else:\n",
        "        train_images = np.concatenate((train_images, images_batch), axis=0)\n",
        "        train_labels.extend(labels_batch)\n",
        "        \n",
        "with open('cifar-10-batches-py/test_batch', 'rb') as fo:\n",
        "    dict_data = pickle.load(fo, encoding='bytes')\n",
        "\n",
        "test_images = dict_data[b'data']\n",
        "test_labels = dict_data[b'labels']\n",
        "\n",
        "train_indexes = sorted(range(len(train_labels)), key=lambda k: train_labels[k])\n",
        "test_indexes = sorted(range(len(test_labels)), key=lambda k: test_labels[k])\n",
        "\n",
        "def cifar10_subset(class_ind=[0,1]):\n",
        "    assert (len(class_ind) >=2 and len(class_ind) <=10)\n",
        "    assert (min(class_ind) >=0 and max(class_ind) <=9)\n",
        "    train_images_cl = []\n",
        "    train_labels_cl = []\n",
        "    test_images_cl = []\n",
        "    test_labels_cl = []\n",
        "    for i in class_ind:\n",
        "        train_inds = train_indexes[i*5000:(i+1)*5000]\n",
        "        test_inds = test_indexes[i*1000:(i+1)*1000]\n",
        "        train_images_tmp = train_images[train_inds,:]\n",
        "        train_labels_tmp = np.array(train_labels)[train_inds]\n",
        "        test_images_tmp = test_images[test_inds,:]\n",
        "        test_labels_tmp = np.array(test_labels)[test_inds]\n",
        "\n",
        "        train_images_cl.append(train_images_tmp)\n",
        "        train_labels_cl.append(train_labels_tmp)\n",
        "        test_images_cl.append(test_images_tmp)\n",
        "        test_labels_cl.append(test_labels_tmp)\n",
        "  \n",
        "    return np.concatenate(train_images_cl), np.array(train_labels_cl), np.concatenate(test_images_cl), np.array(test_labels_cl)\n",
        "\n",
        "X_train, Y_train, X_test, Y_test = cifar10_subset([0, 1, 2, 3])  # four classes\n",
        "\n",
        "train_images = Tensor(X_train / 255.)\n",
        "test_images = Tensor(X_test / 255.)\n",
        "train_labels = Tensor(Y_train.reshape(-1))\n",
        "test_labels = Tensor(Y_test.reshape(-1))\n",
        "\n",
        "print(\"Training Images Shape:\" , train_images.shape)\n",
        "print(\"Training Labels Shape:\" ,train_labels.shape)\n",
        "print(\"Test Images Shape:\" ,test_images.shape)\n",
        "print(\"Test Labels Shape:\" ,test_labels.shape)"
      ],
      "id": "important-addition",
      "execution_count": 28,
      "outputs": [
        {
          "output_type": "stream",
          "text": [
            "Training Images Shape: (20000, 3072)\n",
            "Training Labels Shape: (20000,)\n",
            "Test Images Shape: (4000, 3072)\n",
            "Test Labels Shape: (4000,)\n"
          ],
          "name": "stdout"
        }
      ]
    },
    {
      "cell_type": "markdown",
      "metadata": {
        "id": "OdiVaUwqm_4D"
      },
      "source": [
        "#### **Define the model which will be trained on CIFAR-10**"
      ],
      "id": "OdiVaUwqm_4D"
    },
    {
      "cell_type": "code",
      "metadata": {
        "id": "subject-halloween"
      },
      "source": [
        "class Model(Module):\n",
        "    def __init__(self):\n",
        "        super(Model, self).__init__()\n",
        "        self.fc1 = Linear(3072, 640)\n",
        "        self.fc2 = Linear(640, 320)\n",
        "        self.fc3 = Linear(320, 64)\n",
        "        self.fc4 = Linear(64, 4)\n",
        "        self.relu = ReLU()\n",
        "\n",
        "    def forward(self, x):\n",
        "        x = self.relu(self.fc1(x))\n",
        "        x = self.relu(self.fc2(x))\n",
        "        x = self.relu(self.fc3(x))\n",
        "        x = self.fc4(x)\n",
        "        return x"
      ],
      "id": "subject-halloween",
      "execution_count": 29,
      "outputs": []
    },
    {
      "cell_type": "markdown",
      "metadata": {
        "id": "-5MOvtimnOeA"
      },
      "source": [
        "#### **Training and Evaluation**"
      ],
      "id": "-5MOvtimnOeA"
    },
    {
      "cell_type": "code",
      "metadata": {
        "id": "outer-field",
        "colab": {
          "base_uri": "https://localhost:8080/"
        },
        "outputId": "eb8a31cf-a429-4275-f556-643d382952a4"
      },
      "source": [
        "np.random.seed(2021)\n",
        "random.seed(2021)\n",
        "\n",
        "model = Model()\n",
        "criterion = CrossEntropyLoss()\n",
        "\n",
        "epoch = 30\n",
        "batch_size = 100\n",
        "assert len(train_images) % batch_size == 0\n",
        "lr = 0.1\n",
        "for i in tqdm(range(epoch)):\n",
        "    indices = np.arange(len(train_images))\n",
        "    np.random.shuffle(indices)\n",
        "    train_images_shuffle = train_images[indices]\n",
        "    train_labels_shuffle = train_labels[indices]\n",
        "    running_loss = 0.0\n",
        "    for num_batch in range(len(train_images) // batch_size):\n",
        "        imgs = train_images_shuffle[num_batch * batch_size:(num_batch + 1) * batch_size]\n",
        "        target = train_labels_shuffle[num_batch * batch_size:(num_batch + 1) * batch_size]\n",
        "        output = model(imgs)\n",
        "        loss = criterion(output, target)\n",
        "        model.zero_grad()\n",
        "        loss.backward()\n",
        "        model.update(lr)\n",
        "        running_loss += loss      \n",
        "    print('Loss = {}'.format(running_loss/(num_batch + 1)))\n",
        "print('Training Finished')"
      ],
      "id": "outer-field",
      "execution_count": 30,
      "outputs": [
        {
          "output_type": "stream",
          "text": [
            "  3%|▎         | 1/30 [00:16<08:00, 16.56s/it]"
          ],
          "name": "stderr"
        },
        {
          "output_type": "stream",
          "text": [
            "Loss = 1.2582670023415816\n"
          ],
          "name": "stdout"
        },
        {
          "output_type": "stream",
          "text": [
            "\r  7%|▋         | 2/30 [00:32<07:41, 16.50s/it]"
          ],
          "name": "stderr"
        },
        {
          "output_type": "stream",
          "text": [
            "Loss = 1.0919951508004484\n"
          ],
          "name": "stdout"
        },
        {
          "output_type": "stream",
          "text": [
            "\r 10%|█         | 3/30 [00:49<07:25, 16.50s/it]"
          ],
          "name": "stderr"
        },
        {
          "output_type": "stream",
          "text": [
            "Loss = 1.00561870092553\n"
          ],
          "name": "stdout"
        },
        {
          "output_type": "stream",
          "text": [
            "\r 13%|█▎        | 4/30 [01:05<07:08, 16.49s/it]"
          ],
          "name": "stderr"
        },
        {
          "output_type": "stream",
          "text": [
            "Loss = 0.9637869468715854\n"
          ],
          "name": "stdout"
        },
        {
          "output_type": "stream",
          "text": [
            "\r 17%|█▋        | 5/30 [01:22<06:51, 16.45s/it]"
          ],
          "name": "stderr"
        },
        {
          "output_type": "stream",
          "text": [
            "Loss = 0.9254566579690754\n"
          ],
          "name": "stdout"
        },
        {
          "output_type": "stream",
          "text": [
            "\r 20%|██        | 6/30 [01:38<06:34, 16.43s/it]"
          ],
          "name": "stderr"
        },
        {
          "output_type": "stream",
          "text": [
            "Loss = 0.8892995711565709\n"
          ],
          "name": "stdout"
        },
        {
          "output_type": "stream",
          "text": [
            "\r 23%|██▎       | 7/30 [01:54<06:17, 16.40s/it]"
          ],
          "name": "stderr"
        },
        {
          "output_type": "stream",
          "text": [
            "Loss = 0.8592798627312358\n"
          ],
          "name": "stdout"
        },
        {
          "output_type": "stream",
          "text": [
            "\r 27%|██▋       | 8/30 [02:11<06:01, 16.42s/it]"
          ],
          "name": "stderr"
        },
        {
          "output_type": "stream",
          "text": [
            "Loss = 0.8584353847176592\n"
          ],
          "name": "stdout"
        },
        {
          "output_type": "stream",
          "text": [
            "\r 30%|███       | 9/30 [02:27<05:44, 16.41s/it]"
          ],
          "name": "stderr"
        },
        {
          "output_type": "stream",
          "text": [
            "Loss = 0.8277142604913215\n"
          ],
          "name": "stdout"
        },
        {
          "output_type": "stream",
          "text": [
            "\r 33%|███▎      | 10/30 [02:44<05:28, 16.44s/it]"
          ],
          "name": "stderr"
        },
        {
          "output_type": "stream",
          "text": [
            "Loss = 0.8027028210928258\n"
          ],
          "name": "stdout"
        },
        {
          "output_type": "stream",
          "text": [
            "\r 37%|███▋      | 11/30 [03:00<05:12, 16.46s/it]"
          ],
          "name": "stderr"
        },
        {
          "output_type": "stream",
          "text": [
            "Loss = 0.7792771799979189\n"
          ],
          "name": "stdout"
        },
        {
          "output_type": "stream",
          "text": [
            "\r 40%|████      | 12/30 [03:17<04:58, 16.60s/it]"
          ],
          "name": "stderr"
        },
        {
          "output_type": "stream",
          "text": [
            "Loss = 0.7655082703577495\n"
          ],
          "name": "stdout"
        },
        {
          "output_type": "stream",
          "text": [
            "\r 43%|████▎     | 13/30 [03:34<04:43, 16.69s/it]"
          ],
          "name": "stderr"
        },
        {
          "output_type": "stream",
          "text": [
            "Loss = 0.7405931547794254\n"
          ],
          "name": "stdout"
        },
        {
          "output_type": "stream",
          "text": [
            "\r 47%|████▋     | 14/30 [03:51<04:26, 16.68s/it]"
          ],
          "name": "stderr"
        },
        {
          "output_type": "stream",
          "text": [
            "Loss = 0.7206759232191874\n"
          ],
          "name": "stdout"
        },
        {
          "output_type": "stream",
          "text": [
            "\r 50%|█████     | 15/30 [04:08<04:10, 16.70s/it]"
          ],
          "name": "stderr"
        },
        {
          "output_type": "stream",
          "text": [
            "Loss = 0.7131060567937797\n"
          ],
          "name": "stdout"
        },
        {
          "output_type": "stream",
          "text": [
            "\r 53%|█████▎    | 16/30 [04:24<03:53, 16.66s/it]"
          ],
          "name": "stderr"
        },
        {
          "output_type": "stream",
          "text": [
            "Loss = 0.7172370026266394\n"
          ],
          "name": "stdout"
        },
        {
          "output_type": "stream",
          "text": [
            "\r 57%|█████▋    | 17/30 [04:41<03:35, 16.60s/it]"
          ],
          "name": "stderr"
        },
        {
          "output_type": "stream",
          "text": [
            "Loss = 0.6800015122822465\n"
          ],
          "name": "stdout"
        },
        {
          "output_type": "stream",
          "text": [
            "\r 60%|██████    | 18/30 [04:57<03:18, 16.58s/it]"
          ],
          "name": "stderr"
        },
        {
          "output_type": "stream",
          "text": [
            "Loss = 0.6773129184500734\n"
          ],
          "name": "stdout"
        },
        {
          "output_type": "stream",
          "text": [
            "\r 63%|██████▎   | 19/30 [05:14<03:01, 16.52s/it]"
          ],
          "name": "stderr"
        },
        {
          "output_type": "stream",
          "text": [
            "Loss = 0.6583498611888343\n"
          ],
          "name": "stdout"
        },
        {
          "output_type": "stream",
          "text": [
            "\r 67%|██████▋   | 20/30 [05:30<02:45, 16.50s/it]"
          ],
          "name": "stderr"
        },
        {
          "output_type": "stream",
          "text": [
            "Loss = 0.6512438799563115\n"
          ],
          "name": "stdout"
        },
        {
          "output_type": "stream",
          "text": [
            "\r 70%|███████   | 21/30 [05:46<02:28, 16.46s/it]"
          ],
          "name": "stderr"
        },
        {
          "output_type": "stream",
          "text": [
            "Loss = 0.6305094876835061\n"
          ],
          "name": "stdout"
        },
        {
          "output_type": "stream",
          "text": [
            "\r 73%|███████▎  | 22/30 [06:03<02:11, 16.45s/it]"
          ],
          "name": "stderr"
        },
        {
          "output_type": "stream",
          "text": [
            "Loss = 0.611703107474812\n"
          ],
          "name": "stdout"
        },
        {
          "output_type": "stream",
          "text": [
            "\r 77%|███████▋  | 23/30 [06:19<01:54, 16.42s/it]"
          ],
          "name": "stderr"
        },
        {
          "output_type": "stream",
          "text": [
            "Loss = 0.6174110149762465\n"
          ],
          "name": "stdout"
        },
        {
          "output_type": "stream",
          "text": [
            "\r 80%|████████  | 24/30 [06:35<01:38, 16.41s/it]"
          ],
          "name": "stderr"
        },
        {
          "output_type": "stream",
          "text": [
            "Loss = 0.5962815868056617\n"
          ],
          "name": "stdout"
        },
        {
          "output_type": "stream",
          "text": [
            "\r 83%|████████▎ | 25/30 [06:52<01:22, 16.41s/it]"
          ],
          "name": "stderr"
        },
        {
          "output_type": "stream",
          "text": [
            "Loss = 0.5968599266443294\n"
          ],
          "name": "stdout"
        },
        {
          "output_type": "stream",
          "text": [
            "\r 87%|████████▋ | 26/30 [07:08<01:05, 16.45s/it]"
          ],
          "name": "stderr"
        },
        {
          "output_type": "stream",
          "text": [
            "Loss = 0.5718190408421328\n"
          ],
          "name": "stdout"
        },
        {
          "output_type": "stream",
          "text": [
            "\r 90%|█████████ | 27/30 [07:25<00:49, 16.43s/it]"
          ],
          "name": "stderr"
        },
        {
          "output_type": "stream",
          "text": [
            "Loss = 0.5613237884032598\n"
          ],
          "name": "stdout"
        },
        {
          "output_type": "stream",
          "text": [
            "\r 93%|█████████▎| 28/30 [07:41<00:32, 16.46s/it]"
          ],
          "name": "stderr"
        },
        {
          "output_type": "stream",
          "text": [
            "Loss = 0.5500586091577057\n"
          ],
          "name": "stdout"
        },
        {
          "output_type": "stream",
          "text": [
            "\r 97%|█████████▋| 29/30 [07:58<00:16, 16.55s/it]"
          ],
          "name": "stderr"
        },
        {
          "output_type": "stream",
          "text": [
            "Loss = 0.5268478581278095\n"
          ],
          "name": "stdout"
        },
        {
          "output_type": "stream",
          "text": [
            "100%|██████████| 30/30 [08:15<00:00, 16.52s/it]"
          ],
          "name": "stderr"
        },
        {
          "output_type": "stream",
          "text": [
            "Loss = 0.5286575279149609\n",
            "Training Finished\n"
          ],
          "name": "stdout"
        },
        {
          "output_type": "stream",
          "text": [
            "\n"
          ],
          "name": "stderr"
        }
      ]
    },
    {
      "cell_type": "code",
      "metadata": {
        "id": "y9LaED10nSRV",
        "colab": {
          "base_uri": "https://localhost:8080/"
        },
        "outputId": "f6a7358a-ca2e-47f3-a0c3-c3f7e2ccbce9"
      },
      "source": [
        "prediction = model(test_images)\n",
        "prediction_label = np.argmax(prediction, axis=1)\n",
        "test_acc = np.sum((prediction_label == test_labels))/len(test_labels)\n",
        "print('Test Accuracy = {:.2f}'.format(100*test_acc))"
      ],
      "id": "y9LaED10nSRV",
      "execution_count": 31,
      "outputs": [
        {
          "output_type": "stream",
          "text": [
            "Test Accuracy = 71.58\n"
          ],
          "name": "stdout"
        }
      ]
    },
    {
      "cell_type": "code",
      "metadata": {
        "id": "qZaD8_vOnUZl"
      },
      "source": [
        ""
      ],
      "id": "qZaD8_vOnUZl",
      "execution_count": 31,
      "outputs": []
    }
  ]
}